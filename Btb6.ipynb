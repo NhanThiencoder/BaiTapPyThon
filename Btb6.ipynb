{
 "cells": [
  {
   "cell_type": "code",
   "id": "initial_id",
   "metadata": {
    "collapsed": true,
    "ExecuteTime": {
     "end_time": "2025-05-02T15:20:54.239552Z",
     "start_time": "2025-05-02T15:20:50.377354Z"
    }
   },
   "source": [
    "#Tuple\n",
    "number_list = (1, 3,4, 9, 4, 2, 4, 5)\n",
    "#to create a tuple of numbers and print one item.\n",
    "n = int(input(\"Enter a number: \"))\n",
    "print(number_list[n])\n",
    "#to unpack a tuple into several variables\n",
    "(num , bigger_num, *biggest_num) = number_list\n",
    "print(num)\n",
    "print(bigger_num)\n",
    "#to add an item to a tuple.\n",
    "number_list = number_list + (9,)\n",
    "print(number_list)\n",
    "#to find the index of an item in a tuple.\n",
    "idex = int(input(\"Enter a index: \"))\n",
    "count = 0\n",
    "for i in range(len(number_list)):\n",
    "    if idex == number_list[i]:\n",
    "        print(i+1)\n",
    "        count += 1\n",
    "        break\n",
    "if count == 0:\n",
    "    print(\"No numbers found\")\n",
    "#to find the repeated items of a tuple\n",
    "count_list = set()\n",
    "for i in number_list:\n",
    "    if number_list.count(i) > 1:\n",
    "        count_list.add(i)\n",
    "print(\"Các phần tử bị lặp lại:\", count_list)"
   ],
   "outputs": [
    {
     "name": "stdout",
     "output_type": "stream",
     "text": [
      "3\n",
      "1\n",
      "3\n",
      "(1, 3, 4, 9, 4, 2, 4, 5, 9)\n"
     ]
    }
   ],
   "execution_count": 13
  },
  {
   "metadata": {
    "ExecuteTime": {
     "end_time": "2025-05-02T15:46:28.137197Z",
     "start_time": "2025-05-02T15:46:24.633802Z"
    }
   },
   "cell_type": "code",
   "source": [
    "#Set\n",
    "#Write a Python program to find the maximum and minimum values in a set.\n",
    "number_set = {100, 231, 123, 444, 111, 421}\n",
    "max_value = max(number_set)\n",
    "min_value = min(number_set)\n",
    "print(f\"max_value in set: {max_value}\")\n",
    "print(f\"min_value in set: {min_value}\")\n",
    "#Write a Python program to check if a given value is present in a set or not.\n",
    "give_value = int(input(\"Enter a value: \"))\n",
    "count = 0\n",
    "for num in number_set:\n",
    "    if give_value in number_set:\n",
    "        print(\"Co trong set\")\n",
    "        count += 1\n",
    "        break\n",
    "    if count == 0:\n",
    "        print(\"No numbers found\")\n",
    "#Write a Python program to check if two given sets have no elements in common.\n",
    "set1 = { 1 , 2, 3}\n",
    "set2 = {2, 4, 3}\n",
    "if set1.isdisjoint(set2):\n",
    "    print(\"Không co phan tu chung\")\n",
    "else: print(\"Co phan tu chung\")\n",
    "#Write a Python program to find all the unique words and count the frequency of occurrence from a given list of strings. Use Python set data type.\n",
    "text_list = [\n",
    "    \"apple banana apple\",\n",
    "    \"orange banana apple\",\n",
    "    \"grape orange banana\",\n",
    "    \"apple banana\"\n",
    "]\n",
    "b = []\n",
    "for sentence in text_list:\n",
    "    words = sentence.split()\n",
    "    b.extend(words)\n",
    "c = set(b)\n",
    "print(f\"Các kí tự unique: {c}\")\n",
    "for words in c:\n",
    "    count = b.count(words)\n",
    "    print(f\"{words}: xuat hien {count} lan\")\n",
    "#Given two sets of numbers, write a Python program to find the missing numbers in the second set as compared to the first and vice versa. Use the Python set.\n",
    "set3 = {1, 2, 3, 4, 5, 6}\n",
    "set4 = {2, 4, 7}\n",
    "missing_set4 = set3 - set4\n",
    "missing_set3 = set4 - set3\n",
    "print(f\"Cac phan tu thieu o set4: {missing_set4}\")\n",
    "print(f\"Cac phan tu thieu o set3: {missing_set3}\")"
   ],
   "id": "c63174a731c6e1bb",
   "outputs": [
    {
     "name": "stdout",
     "output_type": "stream",
     "text": [
      "max_value in set: 444\n",
      "min_value in set: 100\n",
      "Co trong set\n"
     ]
    }
   ],
   "execution_count": 22
  },
  {
   "metadata": {
    "ExecuteTime": {
     "end_time": "2025-05-02T16:47:25.477558Z",
     "start_time": "2025-05-02T16:47:25.472126Z"
    }
   },
   "cell_type": "code",
   "source": [
    "#dict\n",
    "keys = [\"name\", \"age\", \"city\"]\n",
    "values = [\"Alice\", 25, \"New York\"]\n",
    "convert = dict(zip(keys, values))\n",
    "print(convert)\n",
    "#Merge two Python dictionaries into one cho 2 dict\n",
    "dict1 = {\"name\": \"Alice\", \"age\": 25}\n",
    "dict2 = {\"city\": \"New York\", \"job\": \"Engineer\", \"history\" :\"VietNam\"}\n",
    "dict1.update(dict2)\n",
    "print(dict1)\n",
    "#Print the value of key ‘history’ from the below dict\n",
    "print(f\"value of key \\\"history\\\": {dict1.get(\"history\",)}\")\n",
    "#Initialize dictionary with default values\n",
    "dictmoi = {\"Thien\", \"Luong\", \"Bao\"}\n",
    "default_score = 0\n",
    "default_student = dict.fromkeys(dictmoi, default_score)\n",
    "print(default_student)\n",
    "#Create a dictionary by extracting the keys from a given dictionary\n",
    "keys_extract= [\"name\", \"age\"]\n",
    "new_dict =dict()\n",
    "for tu in keys_extract:\n",
    "    new_dict[tu] = dict1[tu]\n",
    "print(new_dict)\n",
    "#Delete a list of keys from a dictionary\n",
    "delete_key= [\"name\", \"age\"]\n",
    "for key in delete_key:\n",
    "    if key in dict1:\n",
    "        del dict1[key]\n",
    "print(dict1)\n",
    "#Check if a value exists in a dictionary\n",
    "my_dict = {\n",
    "    \"name\": \"Alice\",\n",
    "    \"age\": 25,\n",
    "    \"city\": \"New York\"\n",
    "}\n",
    "value_to_check = input(\"Enter value to check: \")\n",
    "if value_to_check in my_dict.values():\n",
    "    print(\"Value exists in the dictionary.\")\n",
    "else:\n",
    "    print(\"Value does not exist in the dictionary.\")\n",
    "#Rename key of a dictionary\n",
    "old_key = \"name\"\n",
    "new_key = \"full_name\"\n",
    "\n",
    "if old_key in my_dict:\n",
    "    my_dict[new_key] = my_dict.pop(old_key)\n",
    "\n",
    "print(my_dict)\n",
    "#Get the key of a minimum value from the following dictionary\n",
    "num_dict = {\"a\": 100,\n",
    "    \"b\": 200,\n",
    "    \"c\": 50,\n",
    "    \"d\": 300}\n",
    "min_key = min(num_dict, key=num_dict.get)\n",
    "print(f\"Key of minimum value: {min_key}\")\n",
    "#Change value of a key in a nested dictionary\n",
    "nested_dict = {\n",
    "    \"student1\": {\n",
    "        \"name\": \"Alice\",\n",
    "        \"age\": 25,\n",
    "        \"courses\": [\"Math\", \"Science\"]\n",
    "    },\n",
    "    \"student2\": {\n",
    "        \"name\": \"Bob\",\n",
    "        \"age\": 22,\n",
    "        \"courses\": [\"English\", \"History\"]\n",
    "    }\n",
    "}\n",
    "nested_dict[\"student1\"][\"age\"] = 26\n",
    "print(nested_dict)\n",
    "#Counts the number of times characters appear in a text paragraph.\n",
    "text = \"Hello, how are you doing today? I hope you're doing well!\"\n",
    "char_count = {}\n",
    "\n",
    "for char in text:\n",
    "    # Nếu ký tự đã có trong dictionary, tăng giá trị lên 1\n",
    "    if char in char_count:\n",
    "        char_count[char] += 1\n",
    "    else:\n",
    "        # Nếu ký tự chưa có, thêm vào dictionary với giá trị 1\n",
    "        char_count[char] = 1\n",
    "\n",
    "print(char_count)\n",
    "#Using a dictionary containing keys starting from 1 and values ​​containing prime numbers less than a value N.\n",
    "def is_prime(num):\n",
    "    if num <= 1:\n",
    "        return False\n",
    "    for i in range(2, int(num ** 0.5) + 1):\n",
    "        if num % i == 0:\n",
    "            return False\n",
    "    return True\n",
    "def prime_dict(N):\n",
    "    prime_numbers = [num for num in range(2, N) if is_prime(num)]\n",
    "    prime_dict = {i + 1: prime_numbers[i] for i in range(len(prime_numbers))}  # Tạo dictionary\n",
    "    return prime_dict\n",
    "N = 30\n",
    "result = prime_dict(N)\n",
    "print(result)\n"
   ],
   "id": "2369325098ba31a3",
   "outputs": [
    {
     "name": "stdout",
     "output_type": "stream",
     "text": [
      "{'name': 'Alice', 'age': 25, 'city': 'New York'}\n",
      "{'name': 'Alice', 'age': 25, 'city': 'New York', 'job': 'Engineer', 'history': 'VietNam'}\n",
      "value of key \"history\": VietNam\n",
      "{'Luong': 0, 'Bao': 0, 'Thien': 0}\n",
      "{'name': 'Alice', 'age': 25}\n",
      "{'city': 'New York', 'job': 'Engineer', 'history': 'VietNam'}\n"
     ]
    }
   ],
   "execution_count": 55
  }
 ],
 "metadata": {
  "kernelspec": {
   "display_name": "Python 3",
   "language": "python",
   "name": "python3"
  },
  "language_info": {
   "codemirror_mode": {
    "name": "ipython",
    "version": 2
   },
   "file_extension": ".py",
   "mimetype": "text/x-python",
   "name": "python",
   "nbconvert_exporter": "python",
   "pygments_lexer": "ipython2",
   "version": "2.7.6"
  }
 },
 "nbformat": 4,
 "nbformat_minor": 5
}
