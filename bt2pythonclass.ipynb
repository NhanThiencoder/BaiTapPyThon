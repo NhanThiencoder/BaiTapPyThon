{
 "cells": [
  {
   "metadata": {
    "ExecuteTime": {
     "end_time": "2025-03-29T03:32:19.136352Z",
     "start_time": "2025-03-29T03:32:14.910989Z"
    }
   },
   "cell_type": "code",
   "source": [
    "from dataclasses import replace\n",
    "from tkinter.tix import ASCII\n",
    "from traceback import print_tb\n",
    "\n",
    "from attr.validators import max_len\n",
    "from charset_normalizer.cd import alphabet_languages\n",
    "from nbformat.current import current_nbformat\n",
    "from pkg_resources import non_empty_lines\n",
    "from pywin.Demos.app.customprint import PRINTDLGORD\n",
    "\n",
    "#Write a Python program to calculate the length of a string.\n",
    "x = input(\"Enter string: \")\n",
    "print(len(x))"
   ],
   "id": "a6d9f090fbccb9de",
   "outputs": [
    {
     "name": "stdout",
     "output_type": "stream",
     "text": [
      "6\n"
     ]
    }
   ],
   "execution_count": 6
  },
  {
   "metadata": {
    "ExecuteTime": {
     "end_time": "2025-03-29T03:43:27.901770Z",
     "start_time": "2025-03-29T03:43:27.898677Z"
    }
   },
   "cell_type": "code",
   "source": [
    "#bt2 Write a Python program to count the number of characters (character frequency) in a string.\n",
    "n = \"hello world\"\n",
    "a ={}\n",
    "for char in n:\n",
    "    if char not in a:\n",
    "        a[char] = 1\n",
    "    else:\n",
    "        a[char] += 1\n",
    "print(a)"
   ],
   "id": "af9991e4bd4b17a6",
   "outputs": [
    {
     "name": "stdout",
     "output_type": "stream",
     "text": [
      "{'h': 1, 'e': 1, 'l': 3, 'o': 2, ' ': 1, 'w': 1, 'r': 1, 'd': 1}\n"
     ]
    }
   ],
   "execution_count": 19
  },
  {
   "metadata": {
    "ExecuteTime": {
     "end_time": "2025-03-29T19:49:55.744461Z",
     "start_time": "2025-03-29T19:49:52.301473Z"
    }
   },
   "cell_type": "code",
   "source": [
    "#bt3 Write a Python program to get a string made of the first 2 and last 2 characters of a given string. If the string length is less than 2, return the empty string instead\n",
    "n = input(\"Enter string: \")\n",
    "lenn= len(n)\n",
    "new = \"\"\n",
    "if lenn < 2:\n",
    "    n = None\n",
    "    print(\"empty string\")\n",
    "else:\n",
    "    print(f\"\\\"{n[:2]}{n[(lenn-2):]}\\\"\")"
   ],
   "id": "998037a9e5fe5478",
   "outputs": [
    {
     "name": "stdout",
     "output_type": "stream",
     "text": [
      "empty string\n"
     ]
    }
   ],
   "execution_count": 25
  },
  {
   "metadata": {
    "ExecuteTime": {
     "end_time": "2025-03-29T19:55:45.692051Z",
     "start_time": "2025-03-29T19:55:45.688935Z"
    }
   },
   "cell_type": "code",
   "source": [
    "#bt4 . Write a Python program to get a string from a given string where all occurrences of its first char have been changed to '$', except the first char itself.\n",
    "n = \"restart\"\n",
    "m =\"\"\n",
    "for char in n:\n",
    "    if char not in m:\n",
    "     m+= char\n",
    "    else:\n",
    "        m+=\"$\"\n",
    "print(m)\n"
   ],
   "id": "57a9d4f95339fbe2",
   "outputs": [
    {
     "name": "stdout",
     "output_type": "stream",
     "text": [
      "resta$$\n"
     ]
    }
   ],
   "execution_count": 30
  },
  {
   "metadata": {
    "ExecuteTime": {
     "end_time": "2025-03-29T20:02:22.345928Z",
     "start_time": "2025-03-29T20:02:22.342376Z"
    }
   },
   "cell_type": "code",
   "source": [
    "    #bt5 Write a Python program to get a single string from two given strings, separated by a space and swap the first two characters of each string.\n",
    "a = \"abc\"\n",
    "b = \"xyz\"\n",
    "c = (b[:2]+a[len(a)-1:])\n",
    "d = (a[:2]+b[len(b)-1:])\n",
    "print(f\"{c} {d}\")"
   ],
   "id": "dccf02fbf79072b7",
   "outputs": [
    {
     "name": "stdout",
     "output_type": "stream",
     "text": [
      "xyc abz\n"
     ]
    }
   ],
   "execution_count": 37
  },
  {
   "metadata": {
    "ExecuteTime": {
     "end_time": "2025-03-29T20:08:56.152160Z",
     "start_time": "2025-03-29T20:08:56.148014Z"
    }
   },
   "cell_type": "code",
   "source": [
    "#bt6 Write a Python program to add 'ing' at the end of a given string (length should be at least 3). If the given string already ends with 'ing', add 'ly' instead. If the string length of the given string is less than 3, leave it unchanged.\n",
    "a = \"abc\"\n",
    "print(a.replace(f\"{a[len(a)-1:]}\",f\"{a[len(a)-1:]}ing\"))"
   ],
   "id": "9dba9bd6a23e05d5",
   "outputs": [
    {
     "name": "stdout",
     "output_type": "stream",
     "text": [
      "abcing\n"
     ]
    }
   ],
   "execution_count": 45
  },
  {
   "metadata": {
    "ExecuteTime": {
     "end_time": "2025-03-29T20:57:59.738777Z",
     "start_time": "2025-03-29T20:57:59.734418Z"
    }
   },
   "cell_type": "code",
   "source": [
    "#bt7  Write a Python program to find the first appearance of the substrings 'not' and 'poor' in a given string. If 'not' follows 'poor', replace the whole 'not'...'poor' substring with 'good'. Return the resulting string.\n",
    "n=  ('''The lyrics is not that poor!\n",
    "The lyrics is poor!''')\n",
    "chu_not = n.find(\"not\")\n",
    "chu_poor = n.find(\"poor\")\n",
    "print(chu_not)\n",
    "print(chu_poor)\n",
    "if chu_not < chu_poor:\n",
    "    print(f\"{n[:chu_not]}good {n[chu_poor+4:]}\")"
   ],
   "id": "174b945c80d4790c",
   "outputs": [
    {
     "name": "stdout",
     "output_type": "stream",
     "text": [
      "14\n",
      "23\n",
      "The lyrics is good !\n",
      "The lyrics is poor!\n"
     ]
    }
   ],
   "execution_count": 95
  },
  {
   "metadata": {
    "ExecuteTime": {
     "end_time": "2025-04-01T06:38:40.444982Z",
     "start_time": "2025-04-01T06:38:35.359121Z"
    }
   },
   "cell_type": "code",
   "source": [
    "#bt8  Write a Python function that takes a list of words and return the longest word and the length of the longest one.\n",
    "def longest_word(words):\n",
    "    b = words.split()\n",
    "    longest= max(b, key=len)\n",
    "    print(f\"the longest word:{longest} , Length of the longest word {len(longest)}\")\n",
    "a = input(\"Enter string: \")\n",
    "longest_word(a)\n"
   ],
   "id": "7808949c4239676c",
   "outputs": [
    {
     "name": "stdout",
     "output_type": "stream",
     "text": [
      "the longest word:Thien , Length of the longest word 5\n"
     ]
    }
   ],
   "execution_count": 17
  },
  {
   "metadata": {
    "ExecuteTime": {
     "end_time": "2025-04-01T06:48:11.293671Z",
     "start_time": "2025-04-01T06:48:09.427639Z"
    }
   },
   "cell_type": "code",
   "source": [
    "#bt9 Write a Python program to remove the nth index character from a nonempty string.\n",
    "n = \"Python\"\n",
    "index = int(input(\"Enter index: \"))\n",
    "if index > len(n)-1:\n",
    "    index = int(input(\"Enter index: \"))\n",
    "b=n.replace(n[index],\"\")\n",
    "print(b)"
   ],
   "id": "2b2455fd9f61e372",
   "outputs": [
    {
     "name": "stdout",
     "output_type": "stream",
     "text": [
      "6\n",
      "Pytho\n"
     ]
    }
   ],
   "execution_count": 26
  },
  {
   "metadata": {
    "ExecuteTime": {
     "end_time": "2025-04-01T07:10:20.081787Z",
     "start_time": "2025-04-01T07:10:20.078282Z"
    }
   },
   "cell_type": "code",
   "source": [
    "#bt 10 Write a Python program to change a given string to a newly string where the first and last chars have been exchanged\n",
    "a = \"Ho Duc Nhan Thien\"\n",
    "b= a[len(a)-1:] + a[1:len(a)-1] + a[0]\n",
    "print(b)"
   ],
   "id": "4e1234b924c5369e",
   "outputs": [
    {
     "name": "stdout",
     "output_type": "stream",
     "text": [
      "no Duc Nhan ThieH\n"
     ]
    }
   ],
   "execution_count": 49
  },
  {
   "metadata": {
    "ExecuteTime": {
     "end_time": "2025-04-01T07:18:48.156471Z",
     "start_time": "2025-04-01T07:18:48.152176Z"
    }
   },
   "cell_type": "code",
   "source": [
    "#bt 11 Write a Python program to remove characters that have odd index values in a given string\n",
    "n = \"HoDucNhanThien\"\n",
    "b=\"\"\n",
    "for i in range(0,len(n)):\n",
    "    if i % 2 == 0:\n",
    "        b += n[i]\n",
    "    else:\n",
    "        b += \"\"\n",
    "print(b)\n"
   ],
   "id": "6ccbdec200a502b1",
   "outputs": [
    {
     "name": "stdout",
     "output_type": "stream",
     "text": [
      "HDchnhe\n"
     ]
    }
   ],
   "execution_count": 54
  },
  {
   "metadata": {
    "ExecuteTime": {
     "end_time": "2025-04-01T07:35:11.795096Z",
     "start_time": "2025-04-01T07:35:11.790538Z"
    }
   },
   "cell_type": "code",
   "source": [
    "#bt12 Write a Python program to count the occurrences of each word in a given sentence\n",
    "n= \"Ho Duc Nhan Thien.\"\n",
    "b=n.lower()\n",
    "c= b.replace(\".\",\"\").replace(\" \",\"\").replace(\"?\",\"\").replace(\",\",\"\")\n",
    "count = dict()\n",
    "for char in c:\n",
    "    if char not in count:\n",
    "        count[char] = 1\n",
    "    else:\n",
    "        count[char] += 1\n",
    "print(count)"
   ],
   "id": "3bf9eab8a02b144e",
   "outputs": [
    {
     "name": "stdout",
     "output_type": "stream",
     "text": [
      "{'h': 3, 'o': 1, 'd': 1, 'u': 1, 'c': 1, 'n': 3, 'a': 1, 't': 1, 'i': 1, 'e': 1}\n"
     ]
    }
   ],
   "execution_count": 92
  },
  {
   "metadata": {
    "ExecuteTime": {
     "end_time": "2025-04-01T07:40:35.528337Z",
     "start_time": "2025-04-01T07:40:31.324932Z"
    }
   },
   "cell_type": "code",
   "source": [
    "#bt13 Write a Python script that takes input from the user and displays that input back in upper and lower cases\n",
    "script = input(\"Enter script: \")\n",
    "print(script.upper())\n",
    "print(script.lower())"
   ],
   "id": "bc30d28374da9c87",
   "outputs": [
    {
     "name": "stdout",
     "output_type": "stream",
     "text": [
      "HELLO WWORDS\n",
      "hello wwords\n"
     ]
    }
   ],
   "execution_count": 95
  },
  {
   "metadata": {
    "ExecuteTime": {
     "end_time": "2025-04-01T07:49:05.059877Z",
     "start_time": "2025-04-01T07:48:54.082737Z"
    }
   },
   "cell_type": "code",
   "source": [
    "#bt14  Write a Python program that accepts a comma-separated sequence of words as input and prints the distinct words in sorted form (alphanumerically).\n",
    "n= input(\"Enter string: \")\n",
    "b=n.split(\",\")\n",
    "c = set(b)\n",
    "d=sorted(c)\n",
    "print(d)"
   ],
   "id": "3794c2411cb6764",
   "outputs": [
    {
     "name": "stdout",
     "output_type": "stream",
     "text": [
      "['aasdqww', 'lqowsjafasf', 'sasfqw', 'uasfafqwfwq']\n"
     ]
    }
   ],
   "execution_count": 102
  },
  {
   "metadata": {
    "ExecuteTime": {
     "end_time": "2025-04-01T07:59:06.689029Z",
     "start_time": "2025-04-01T07:59:06.684144Z"
    }
   },
   "cell_type": "code",
   "source": [
    "#bt15  Write a Python function to create an HTML string with tags around the word(s)\n",
    "def add_tags(tags,keyword):\n",
    "    print(f\"<{tags}>{keyword}</{tags}>\")\n",
    "add_tags(\"i\",\"hehe\")"
   ],
   "id": "334d7e74ef72587b",
   "outputs": [
    {
     "name": "stdout",
     "output_type": "stream",
     "text": [
      "<i>hehe</i>\n"
     ]
    }
   ],
   "execution_count": 106
  },
  {
   "metadata": {
    "ExecuteTime": {
     "end_time": "2025-04-01T08:04:56.491061Z",
     "start_time": "2025-04-01T08:04:56.487776Z"
    }
   },
   "cell_type": "code",
   "source": [
    "# bt16 Write a Python function to insert a string in the middle of a string\n",
    "def insert_string_middle(string, middle):\n",
    "    print(f\"{string[:len(string)//2]}{middle}{string[len(string)//2:]}\")\n",
    "insert_string_middle(\"nhanthen\",\"hehe\")"
   ],
   "id": "196aff66b16a590e",
   "outputs": [
    {
     "name": "stdout",
     "output_type": "stream",
     "text": [
      "nhanhehethen\n"
     ]
    }
   ],
   "execution_count": 109
  },
  {
   "metadata": {
    "ExecuteTime": {
     "end_time": "2025-04-01T08:22:21.842668Z",
     "start_time": "2025-04-01T08:22:21.839077Z"
    }
   },
   "cell_type": "code",
   "source": [
    "#bt17  Write a Python function to get a string made of 4 copies of the last two characters of a specified string (length must be at least 2)\n",
    "def copy_string(specified):\n",
    "    if len(specified) < 2:\n",
    "        print(\"empty string\")\n",
    "    else:\n",
    "        a=\"\"\n",
    "        for i in range(0,4):\n",
    "            a += f\"{specified[-2:]}\"\n",
    "        print(a)\n",
    "copy_string(\"q\")\n",
    "copy_string(\"nhanthien\")"
   ],
   "id": "b4de1a59787eeaae",
   "outputs": [
    {
     "name": "stdout",
     "output_type": "stream",
     "text": [
      "empty string\n",
      "enenenen\n"
     ]
    }
   ],
   "execution_count": 119
  },
  {
   "metadata": {
    "ExecuteTime": {
     "end_time": "2025-04-01T08:24:05.812052Z",
     "start_time": "2025-04-01T08:24:05.807589Z"
    }
   },
   "cell_type": "code",
   "source": [
    "#bt18 Write a Python function to get a string made of the first three characters of a specified string. If the length of the string is less than 3, return the original string.\n",
    "def copy_string(specified):\n",
    "    if len(specified) < 3:\n",
    "        print(specified)\n",
    "    else:\n",
    "           print(f\"{specified[:3]}\")\n",
    "copy_string(\"nhanthien\")\n",
    "copy_string(\"nh\")\n"
   ],
   "id": "7f5ad35a11963a96",
   "outputs": [
    {
     "name": "stdout",
     "output_type": "stream",
     "text": [
      "nha\n",
      "nh\n"
     ]
    }
   ],
   "execution_count": 120
  },
  {
   "metadata": {
    "ExecuteTime": {
     "end_time": "2025-04-01T08:35:49.954690Z",
     "start_time": "2025-04-01T08:35:49.949804Z"
    }
   },
   "cell_type": "code",
   "source": [
    "#bt19 Write a Python program to get the last part of a string before a specified character\n",
    "n=\"Ho Duc Nhan Thien - hoc python\"\n",
    "b=\"\"\n",
    "for char in n:\n",
    "    if char.isalnum() or char.isspace():\n",
    "        b += char\n",
    "    else:\n",
    "        print(b)\n",
    "        break\n",
    "\n"
   ],
   "id": "186e3dd332996074",
   "outputs": [
    {
     "name": "stdout",
     "output_type": "stream",
     "text": [
      "Ho Duc Nhan Thien \n"
     ]
    }
   ],
   "execution_count": 1
  },
  {
   "metadata": {
    "ExecuteTime": {
     "end_time": "2025-04-02T01:04:31.572990Z",
     "start_time": "2025-04-02T01:04:31.568991Z"
    }
   },
   "cell_type": "code",
   "source": [
    "#BT20  Write a Python function to reverse a string if its length is a multiple of 4.\n",
    "def reverse_string(string):\n",
    "    print(len(string))\n",
    "    if len(string) %4 ==0:\n",
    "        print(f\"{string[len(string)-1::-1]}\")\n",
    "    elif len(string) %4 != 0:\n",
    "        print(\"Do dai cua chuoi khong chia het cho 4\")\n",
    "a = \"HoDucNhanThi\"\n",
    "reverse_string(a)"
   ],
   "id": "cb4027baad6b3662",
   "outputs": [
    {
     "name": "stdout",
     "output_type": "stream",
     "text": [
      "12\n",
      "ihTnahNcuDoH\n"
     ]
    }
   ],
   "execution_count": 35
  },
  {
   "metadata": {
    "ExecuteTime": {
     "end_time": "2025-04-02T01:17:17.463703Z",
     "start_time": "2025-04-02T01:17:17.458703Z"
    }
   },
   "cell_type": "code",
   "source": [
    "#bt21 Write a Python function to convert a given string to all uppercase if it contains at least 2 uppercase characters in the first 4 characters.\n",
    "def upperstring(string):\n",
    "    print(string)\n",
    "    i = 0\n",
    "    for y in range(1,4):\n",
    "        if string[i].isupper() & string[y].isupper():\n",
    "            print(f\"{string.upper()}\")\n",
    "        else:\n",
    "            if y ==4:\n",
    "                breakpoint()\n",
    "a = \"HodUcnhanthien\"\n",
    "upperstring(a)\n"
   ],
   "id": "a6e54c6512612f74",
   "outputs": [
    {
     "name": "stdout",
     "output_type": "stream",
     "text": [
      "HodUcnhanthien\n",
      "HODUCNHANTHIEN\n"
     ]
    }
   ],
   "execution_count": 50
  },
  {
   "metadata": {
    "ExecuteTime": {
     "end_time": "2025-04-02T01:24:18.471901Z",
     "start_time": "2025-04-02T01:24:18.468943Z"
    }
   },
   "cell_type": "code",
   "source": [
    "#22 Write a Python program to sort a string lexicographically\n",
    "n = \"H!cha4241\"\n",
    "m=\"\"\n",
    "for i in sorted(n):\n",
    "    m += i\n",
    "print(m)\n",
    "\n",
    "\n"
   ],
   "id": "2c74190df457e2e7",
   "outputs": [
    {
     "name": "stdout",
     "output_type": "stream",
     "text": [
      "!1244Hach\n"
     ]
    }
   ],
   "execution_count": 57
  },
  {
   "metadata": {
    "ExecuteTime": {
     "end_time": "2025-04-02T01:31:01.889561Z",
     "start_time": "2025-04-02T01:31:01.886438Z"
    }
   },
   "cell_type": "code",
   "source": [
    "##23 Write a Python program to remove a newline in Python\n",
    "n = f\"Ho Duc Nhan Thien \\naaaaaa  \\n àasfsafasas\"\n",
    "print(n)\n",
    "for word in n:\n",
    "    if word == f\"\\n\":\n",
    "        b=n.replace(word,\"\")\n",
    "print(b)"
   ],
   "id": "8e41c8a03c543bab",
   "outputs": [
    {
     "name": "stdout",
     "output_type": "stream",
     "text": [
      "Ho Duc Nhan Thien \n",
      "aaaaaa  \n",
      " àasfsafasas\n",
      "Ho Duc Nhan Thien aaaaaa   àasfsafasas\n"
     ]
    }
   ],
   "execution_count": 66
  },
  {
   "metadata": {
    "ExecuteTime": {
     "end_time": "2025-04-02T01:41:41.515527Z",
     "start_time": "2025-04-02T01:41:39.010857Z"
    }
   },
   "cell_type": "code",
   "source": [
    "#bt24 Write a Python program to check whether a string starts with specified characters.\n",
    "n =\"#24124\"\n",
    "sp_cha = input(\"Enter charater: \")\n",
    "if n[0] == sp_cha:\n",
    "    print(\"Có kí tự đươc chỉ định\")\n",
    "else:\n",
    "    print(\"Ko có\")"
   ],
   "id": "326cb3d69e900c8e",
   "outputs": [
    {
     "name": "stdout",
     "output_type": "stream",
     "text": [
      "Ko có\n"
     ]
    }
   ],
   "execution_count": 76
  },
  {
   "metadata": {
    "ExecuteTime": {
     "end_time": "2025-04-02T03:16:50.595650Z",
     "start_time": "2025-04-02T03:16:50.591459Z"
    }
   },
   "cell_type": "code",
   "source": [
    "#bt25 Write a Python program to create a Caesar encryption\n",
    "a = list(\"abcdefghijklmnopqrstuvwxyz\")\n",
    "b=\"\"\n",
    "ceasar = \"Hello!!\"\n",
    "c= ceasar.lower()\n",
    "for char in c:\n",
    "    for i in range(len(a)):\n",
    "        if  char == a[(i-3)%len(a)]:\n",
    "            b +=a[i]\n",
    "            break\n",
    "    else:\n",
    "        b+=char\n",
    "print(b)\n"
   ],
   "id": "de50a4006b0b2028",
   "outputs": [
    {
     "name": "stdout",
     "output_type": "stream",
     "text": [
      "khoor!!\n"
     ]
    }
   ],
   "execution_count": 200
  },
  {
   "metadata": {
    "ExecuteTime": {
     "end_time": "2025-04-02T06:43:32.196422Z",
     "start_time": "2025-04-02T06:43:32.192359Z"
    }
   },
   "cell_type": "code",
   "source": [
    "#bt26  Write a Python program to display formatted text (width=50) as output.\n",
    "n = \"Note : In cryptography, a Caesar cipher, also known as Caesar's cipher, the shift cipher, Caesar's code or Caesar shift, is one of the simplest and most widely known encryption techniques. It is a type of substitution cipher in which each letter in the plaintext is replaced by a letter some fixed number of positions down the alphabet. For example, with a left shift of 3, D would be replaced by A, E would become B, and so on. The method is named after Julius Caesar, who used it in his private correspondence.\"\n",
    "words = n.split()\n",
    "width = 50\n",
    "line=[]\n",
    "current_line=\"\"\n",
    "for word in words:\n",
    "    if len(current_line) + len(word) + 1 <= width:\n",
    "        if current_line:\n",
    "            current_line += \" \"\n",
    "        current_line += word\n",
    "    else:\n",
    "        line.append(current_line)\n",
    "        current_line = word\n",
    "if current_line:\n",
    "        line.append(current_line)\n",
    "for lines in line:\n",
    "    print(lines)\n"
   ],
   "id": "231dcf92c212d492",
   "outputs": [
    {
     "name": "stdout",
     "output_type": "stream",
     "text": [
      "Note : In cryptography, a Caesar cipher, also\n",
      "known as Caesar's cipher, the shift cipher,\n",
      "Caesar's code or Caesar shift, is one of the\n",
      "simplest and most widely known encryption\n",
      "techniques. It is a type of substitution cipher in\n",
      "which each letter in the plaintext is replaced by\n",
      "a letter some fixed number of positions down the\n",
      "alphabet. For example, with a left shift of 3, D\n",
      "would be replaced by A, E would become B, and so\n",
      "on. The method is named after Julius Caesar, who\n",
      "used it in his private correspondence.\n"
     ]
    }
   ],
   "execution_count": 30
  },
  {
   "metadata": {
    "ExecuteTime": {
     "end_time": "2025-04-02T07:11:25.974460Z",
     "start_time": "2025-04-02T07:11:25.971211Z"
    }
   },
   "cell_type": "code",
   "source": [
    "#bt27  Write a Python program to remove existing indentation from all of the lines in a given text.\n",
    "b = f\" Write a Python program to remove existing indentation \\n from all of the lines in a given text.\"\n",
    "print(b)\n",
    "if b[0] == \" \":\n",
    "     b= b[1:]\n",
    "n= b.replace(\"\\n \",\"\\n\")\n",
    "print(n)"
   ],
   "id": "43ede7d598fb55d8",
   "outputs": [
    {
     "name": "stdout",
     "output_type": "stream",
     "text": [
      " Write a Python program to remove existing indentation \n",
      " from all of the lines in a given text.\n",
      "Write a Python program to remove existing indentation \n",
      "from all of the lines in a given text.\n"
     ]
    }
   ],
   "execution_count": 113
  },
  {
   "metadata": {
    "ExecuteTime": {
     "end_time": "2025-04-02T07:36:01.116944Z",
     "start_time": "2025-04-02T07:36:01.112882Z"
    }
   },
   "cell_type": "code",
   "source": [
    "#bt28  Write a Python program to add prefix text to all of the lines in a string\n",
    "def prefix(word, text):\n",
    "    final = text.replace(\"\\n\",f\"\\n{word}\")\n",
    "    text = f\"{word}{final}\"\n",
    "    print(text)\n",
    "x = f\" Write a Python program to remove existing indentation \\n from all of the lines in a given text.\"\n",
    "prefix(\"in\",x)\n"
   ],
   "id": "1af3ef28c1cebda3",
   "outputs": [
    {
     "name": "stdout",
     "output_type": "stream",
     "text": [
      "in Write a Python program to remove existing indentation \n",
      "in from all of the lines in a given text.\n"
     ]
    }
   ],
   "execution_count": 116
  },
  {
   "metadata": {
    "ExecuteTime": {
     "end_time": "2025-04-02T08:13:53.442301Z",
     "start_time": "2025-04-02T08:13:53.436537Z"
    }
   },
   "cell_type": "code",
   "source": [
    "#bt29 . Write a Python program to set the indentation of the first line\n",
    "def indentation(int, text):\n",
    "    for i in range(0,int-1):\n",
    "        i = \" \"\n",
    "        text = f\"{i}{text}\"\n",
    "    print(text)\n",
    "x = f\" Write a Python program to remove existing indentation \\n from all of the lines in a given text.\"\n",
    "indentation(2,x)"
   ],
   "id": "7b2615f45e4bd6d2",
   "outputs": [
    {
     "name": "stdout",
     "output_type": "stream",
     "text": [
      "  Write a Python program to remove existing indentation \n",
      " from all of the lines in a given text.\n"
     ]
    }
   ],
   "execution_count": 119
  },
  {
   "metadata": {
    "ExecuteTime": {
     "end_time": "2025-04-02T08:40:51.139944Z",
     "start_time": "2025-04-02T08:40:51.135747Z"
    }
   },
   "cell_type": "code",
   "source": [
    "#bt30 Write a Python program to print the following numbers up to 2 decimal places\n",
    "numbers = [231.231132, 6.2421, 111.253]\n",
    "for number in numbers:\n",
    "   print(f\"{number:.2f}\")\n"
   ],
   "id": "83848467a0ea3038",
   "outputs": [
    {
     "name": "stdout",
     "output_type": "stream",
     "text": [
      "231.23\n",
      "6.24\n",
      "111.25\n"
     ]
    }
   ],
   "execution_count": 137
  },
  {
   "metadata": {
    "ExecuteTime": {
     "end_time": "2025-04-02T08:46:20.703783Z",
     "start_time": "2025-04-02T08:46:20.699238Z"
    }
   },
   "cell_type": "code",
   "source": [
    "#bt31 a Python program to print the following numbers up to 2 decimal places with a sign\n",
    "numbers = [-231.231132, 6.2421, 111.253]\n",
    "for number in numbers:\n",
    "   print(f\"{number:+.2f}\")\n"
   ],
   "id": "9173091fc070001",
   "outputs": [
    {
     "name": "stdout",
     "output_type": "stream",
     "text": [
      "-231.23\n",
      "+6.24\n",
      "+111.25\n"
     ]
    }
   ],
   "execution_count": 140
  },
  {
   "metadata": {
    "ExecuteTime": {
     "end_time": "2025-04-02T08:49:58.230646Z",
     "start_time": "2025-04-02T08:49:58.225961Z"
    }
   },
   "cell_type": "code",
   "source": [
    "#bt32  Write a Python program to print the following positive and negative numbers with no decimal places\n",
    "numbers = [-231.231132, 6.2421, 111.253]\n",
    "for number in numbers:\n",
    "   print(f\"{int(number):+}\")"
   ],
   "id": "ab28014ce35f3541",
   "outputs": [
    {
     "name": "stdout",
     "output_type": "stream",
     "text": [
      "-231\n",
      "+6\n",
      "+111\n"
     ]
    }
   ],
   "execution_count": 145
  },
  {
   "metadata": {
    "ExecuteTime": {
     "end_time": "2025-04-04T06:28:32.041402Z",
     "start_time": "2025-04-04T06:28:32.038191Z"
    }
   },
   "cell_type": "code",
   "source": [
    "#bt 33 Write a Python program to print the following integers with zeros to the left of the specified width\n",
    "def zero(interger,width):\n",
    "    print(f\"{(interger):0{width}d}\")\n",
    "zero(2,10)"
   ],
   "id": "d952cb57658a3045",
   "outputs": [
    {
     "name": "stdout",
     "output_type": "stream",
     "text": [
      "0000000002\n"
     ]
    }
   ],
   "execution_count": 10
  },
  {
   "metadata": {
    "ExecuteTime": {
     "end_time": "2025-04-04T06:28:40.336905Z",
     "start_time": "2025-04-04T06:28:40.333645Z"
    }
   },
   "cell_type": "code",
   "source": [
    "#bt34  Write a Python program to print the following integers with* to the rightt of the specified width\n",
    "def special(interger,width):\n",
    "    print(f\"{interger:<{width}}\".replace(\" \",\"*\"))\n",
    "special(2,5)"
   ],
   "id": "17c61871504ff0a5",
   "outputs": [
    {
     "name": "stdout",
     "output_type": "stream",
     "text": [
      "2****\n"
     ]
    }
   ],
   "execution_count": 11
  },
  {
   "metadata": {
    "ExecuteTime": {
     "end_time": "2025-04-04T06:33:15.476143Z",
     "start_time": "2025-04-04T06:33:15.470616Z"
    }
   },
   "cell_type": "code",
   "source": [
    "#bt35 Write a Python program to display a number with a comma separator\n",
    "int = 1241241241\n",
    "print(f\"{int:,}\")"
   ],
   "id": "afdec4faef8bce2c",
   "outputs": [
    {
     "name": "stdout",
     "output_type": "stream",
     "text": [
      "1,241,241,241\n"
     ]
    }
   ],
   "execution_count": 12
  },
  {
   "metadata": {
    "ExecuteTime": {
     "end_time": "2025-04-04T06:34:11.117085Z",
     "start_time": "2025-04-04T06:34:11.112889Z"
    }
   },
   "cell_type": "code",
   "source": [
    "#bt36  Write a Python program to format a number with a percentage\n",
    "percent = 0.45\n",
    "print(f\"{percent:.0%}\")"
   ],
   "id": "24316bc4a0c9a47b",
   "outputs": [
    {
     "name": "stdout",
     "output_type": "stream",
     "text": [
      "45%\n"
     ]
    }
   ],
   "execution_count": 16
  },
  {
   "metadata": {
    "ExecuteTime": {
     "end_time": "2025-04-04T06:42:56.042069Z",
     "start_time": "2025-04-04T06:42:56.036794Z"
    }
   },
   "cell_type": "code",
   "source": [
    " #37 Write a Python program to display a number in left, right, and center aligned with a width of 10\n",
    " number= 2324\n",
    " print(f\"{number:<10}\")\n",
    " print(f\"{number:>10}\")\n",
    " print(f\"{number:^10}\")"
   ],
   "id": "cbefb81ae06ededd",
   "outputs": [
    {
     "name": "stdout",
     "output_type": "stream",
     "text": [
      "2324      \n",
      "      2324\n",
      "   2324   \n"
     ]
    }
   ],
   "execution_count": 20
  },
  {
   "metadata": {
    "ExecuteTime": {
     "end_time": "2025-04-04T06:47:40.311449Z",
     "start_time": "2025-04-04T06:47:40.305608Z"
    }
   },
   "cell_type": "code",
   "source": [
    "#Bt38 Write a Python program to count occurrences of a substring in a string\n",
    "string = \"Nhan Thien hoc lop CS, Nhan Thien 20 tuoi\"\n",
    "string.count(\"Nhan Thien\")"
   ],
   "id": "250180b15f60cad1",
   "outputs": [
    {
     "data": {
      "text/plain": [
       "2"
      ]
     },
     "execution_count": 21,
     "metadata": {},
     "output_type": "execute_result"
    }
   ],
   "execution_count": 21
  },
  {
   "metadata": {
    "ExecuteTime": {
     "end_time": "2025-04-04T06:51:24.877103Z",
     "start_time": "2025-04-04T06:51:24.873406Z"
    }
   },
   "cell_type": "code",
   "source": [
    "#bt39 Write a Python program to reverse a string\n",
    "string = \"HoDucNhanThien\"\n",
    "print(string[::-1])"
   ],
   "id": "d50406400d59966f",
   "outputs": [
    {
     "name": "stdout",
     "output_type": "stream",
     "text": [
      "neihTnahNcuDoH\n"
     ]
    }
   ],
   "execution_count": 26
  },
  {
   "metadata": {
    "ExecuteTime": {
     "end_time": "2025-04-04T06:55:04.188069Z",
     "start_time": "2025-04-04T06:55:04.183693Z"
    }
   },
   "cell_type": "code",
   "source": [
    "# 40 Write a Python program to reverse words in a string\n",
    "string = \"Ho Duc Nhan Thien\"\n",
    "b= string.split()\n",
    "c = \"\"\n",
    "i= len(string.split())-1\n",
    "while i >= 0:\n",
    "    c += b[i]\n",
    "    i -=1\n",
    "print(c)"
   ],
   "id": "49b722174691c22b",
   "outputs": [
    {
     "name": "stdout",
     "output_type": "stream",
     "text": [
      "ThienNhanDucHo\n"
     ]
    }
   ],
   "execution_count": 39
  },
  {
   "metadata": {
    "ExecuteTime": {
     "end_time": "2025-04-04T06:57:22.508764Z",
     "start_time": "2025-04-04T06:57:22.504167Z"
    }
   },
   "cell_type": "code",
   "source": [
    "#41 Write a Python program to strip a set of characters from a string.\n",
    "string = \"Ho Duc Nhan Thien Ho Duc Nhan Thien Ho Duc Nhan Thien\"\n",
    "strip_string = \"Ho\"\n",
    "print(string.replace(strip_string,\"\"))\n"
   ],
   "id": "a454a93e1b48328e",
   "outputs": [
    {
     "name": "stdout",
     "output_type": "stream",
     "text": [
      " Duc Nhan Thien  Duc Nhan Thien  Duc Nhan Thien\n"
     ]
    }
   ],
   "execution_count": 40
  },
  {
   "metadata": {
    "ExecuteTime": {
     "end_time": "2025-04-04T07:12:48.577703Z",
     "start_time": "2025-04-04T07:12:48.573005Z"
    }
   },
   "cell_type": "code",
   "source": [
    "#42  Write a Python program to count repeated characters in a string\n",
    "string = \"thequickbrownfoxjumpsoverthelazydog\"\n",
    "count_word = {}\n",
    "for char in string:\n",
    "    if char in count_word:\n",
    "        count_word[char] += 1\n",
    "    else:\n",
    "        count_word[char] = 1\n",
    "for char in count_word:\n",
    "    if count_word[char]> 1:\n",
    "        print(f\"{char}: {count_word[char]}\")\n"
   ],
   "id": "d1679e6ef861eae6",
   "outputs": [
    {
     "name": "stdout",
     "output_type": "stream",
     "text": [
      "t: 2\n",
      "h: 2\n",
      "e: 3\n",
      "u: 2\n",
      "r: 2\n",
      "o: 4\n"
     ]
    }
   ],
   "execution_count": 60
  },
  {
   "metadata": {
    "ExecuteTime": {
     "end_time": "2025-04-04T07:23:41.316243Z",
     "start_time": "2025-04-04T07:23:41.311040Z"
    }
   },
   "cell_type": "code",
   "source": [
    "#43 Write a Python program to print the square and cube symbols in the area of a rectangle and the volume of a cylinder\n",
    "import math\n",
    "length = 15\n",
    "width = 10\n",
    "area = length*width\n",
    "print(f\"Dien tich:{area}m\\u00B2\" )\n",
    "\n",
    "radius =float(4.42)\n",
    "height= float(5.6)\n",
    "volume = math.pi*radius*radius*height\n",
    "print(f\"The tich:{volume:.2f}m\\u00B3\")\n"
   ],
   "id": "b2ac7f6c52865bb9",
   "outputs": [
    {
     "name": "stdout",
     "output_type": "stream",
     "text": [
      "Dien tich:150m²\n",
      "The tich:343.70m³\n"
     ]
    }
   ],
   "execution_count": 66
  },
  {
   "metadata": {
    "ExecuteTime": {
     "end_time": "2025-04-04T07:28:01.561487Z",
     "start_time": "2025-04-04T07:28:01.557833Z"
    }
   },
   "cell_type": "code",
   "source": [
    "#bt44  Write a Python program to print the index of a character in a string\n",
    "string = \"Ho Duc Nhan Thien\"\n",
    "i=0\n",
    "b= string.replace(\" \",\"\")\n",
    "for char in b:\n",
    "    print(f\"Current character {char} position at {i}\")\n",
    "    i +=1"
   ],
   "id": "852f4459a8504273",
   "outputs": [
    {
     "name": "stdout",
     "output_type": "stream",
     "text": [
      "Current character H position at 0\n",
      "Current character o position at 1\n",
      "Current character D position at 2\n",
      "Current character u position at 3\n",
      "Current character c position at 4\n",
      "Current character N position at 5\n",
      "Current character h position at 6\n",
      "Current character a position at 7\n",
      "Current character n position at 8\n",
      "Current character T position at 9\n",
      "Current character h position at 10\n",
      "Current character i position at 11\n",
      "Current character e position at 12\n",
      "Current character n position at 13\n"
     ]
    }
   ],
   "execution_count": 71
  },
  {
   "metadata": {
    "ExecuteTime": {
     "end_time": "2025-04-04T15:50:04.222466Z",
     "start_time": "2025-04-04T15:50:04.217436Z"
    }
   },
   "cell_type": "code",
   "source": [
    "#bt45 Write a Python program to check whether a string contains all letters of the alphabet.\n",
    "alphabet =set(\"abcdefghijklmnopqrstuvwxyz\")\n",
    "string = \"The quick brown fox jumps over the lazy dog\"\n",
    "if set(string.lower()) >= alphabet:\n",
    "    print(\"True\")\n",
    "else:\n",
    "    print(\"False\")"
   ],
   "id": "3d07561dcf4294a3",
   "outputs": [
    {
     "name": "stdout",
     "output_type": "stream",
     "text": [
      "True\n"
     ]
    }
   ],
   "execution_count": 77
  },
  {
   "metadata": {
    "ExecuteTime": {
     "end_time": "2025-04-04T15:51:19.507800Z",
     "start_time": "2025-04-04T15:51:19.503988Z"
    }
   },
   "cell_type": "code",
   "source": [
    "#bt46 Write a Python program to convert a given string into a list of words\n",
    "string = \"The quick brown fox jumps over the lazy dog\"\n",
    "print(string.split())"
   ],
   "id": "4481a6f8f26afd0a",
   "outputs": [
    {
     "name": "stdout",
     "output_type": "stream",
     "text": [
      "['The', 'quick', 'brown', 'fox', 'jumps', 'over', 'the', 'lazy', 'dog']\n"
     ]
    }
   ],
   "execution_count": 78
  },
  {
   "metadata": {
    "ExecuteTime": {
     "end_time": "2025-04-04T15:55:39.412017Z",
     "start_time": "2025-04-04T15:55:39.407510Z"
    }
   },
   "cell_type": "code",
   "source": [
    "#bt47 Write a Python program to lowercase the first n characters in a string\n",
    "string = \"THE Quick brown fox jumps over the lazy dog\"\n",
    "n = 4\n",
    "print(f\"{string[:n].lower()}{string[n:]}\")"
   ],
   "id": "6dedc2a7d155547e",
   "outputs": [
    {
     "name": "stdout",
     "output_type": "stream",
     "text": [
      "the Quick brown fox jumps over the lazy dog\n"
     ]
    }
   ],
   "execution_count": 82
  },
  {
   "metadata": {
    "ExecuteTime": {
     "end_time": "2025-04-04T16:05:07.873314Z",
     "start_time": "2025-04-04T16:05:07.868331Z"
    }
   },
   "cell_type": "code",
   "source": [
    "#bt48  Write a Python program to swap commas and dots in a string\n",
    "string = \"32.054,23\"\n",
    "new_string=\"\"\n",
    "for char in string:\n",
    "    if char == \".\":\n",
    "        char = \",\"\n",
    "        new_string += char\n",
    "    elif char == \",\":\n",
    "        char = \".\"\n",
    "        new_string += char\n",
    "    else:\n",
    "        new_string += char\n",
    "\n",
    "print(new_string)\n"
   ],
   "id": "b6d01ca9815bdcd0",
   "outputs": [
    {
     "name": "stdout",
     "output_type": "stream",
     "text": [
      "32,054.23\n"
     ]
    }
   ],
   "execution_count": 88
  },
  {
   "metadata": {
    "ExecuteTime": {
     "end_time": "2025-04-04T16:12:16.058893Z",
     "start_time": "2025-04-04T16:12:16.054268Z"
    }
   },
   "cell_type": "code",
   "source": [
    "#bt49 Write a Python program to count and display vowels in text.\n",
    "vowels = \"aeiou\"\n",
    "string = \"The quick brown fox jumps over the lazy dog\"\n",
    "count_vowel = {}\n",
    "count_vowel[\"a\"] = 0\n",
    "count_vowel[\"e\"] = 0\n",
    "count_vowel[\"i\"] = 0\n",
    "count_vowel[\"o\"] = 0\n",
    "count_vowel[\"u\"] = 0\n",
    "for char in string:\n",
    "    for vowel in vowels:\n",
    "        if char == vowel:\n",
    "            count_vowel[vowel] += 1\n",
    "\n",
    "print(count_vowel)"
   ],
   "id": "3d0fb99fec3decf3",
   "outputs": [
    {
     "name": "stdout",
     "output_type": "stream",
     "text": [
      "{'a': 1, 'e': 3, 'i': 1, 'o': 4, 'u': 2}\n"
     ]
    }
   ],
   "execution_count": 95
  },
  {
   "metadata": {
    "ExecuteTime": {
     "end_time": "2025-04-04T16:20:01.506717Z",
     "start_time": "2025-04-04T16:20:01.498603Z"
    }
   },
   "cell_type": "code",
   "source": [
    "#bt50  Write a Python program to split a string on the last occurrence of the delimiter\n",
    "string = \"Banana-apple-mango\"\n",
    "delimiter = \"-\"\n",
    "for i in range(0,len(string)):\n",
    "    if string[i] == delimiter:\n",
    "        last_index = i\n",
    "print(f\"{string[:last_index],string[last_index+1:]}\")"
   ],
   "id": "491b3e388ddd22a4",
   "outputs": [
    {
     "name": "stdout",
     "output_type": "stream",
     "text": [
      "('Banana-apple', 'mango')\n"
     ]
    }
   ],
   "execution_count": 102
  }
 ],
 "metadata": {
  "kernelspec": {
   "display_name": "Python 3",
   "language": "python",
   "name": "python3"
  },
  "language_info": {
   "codemirror_mode": {
    "name": "ipython",
    "version": 2
   },
   "file_extension": ".py",
   "mimetype": "text/x-python",
   "name": "python",
   "nbconvert_exporter": "python",
   "pygments_lexer": "ipython2",
   "version": "2.7.6"
  }
 },
 "nbformat": 4,
 "nbformat_minor": 5
}
